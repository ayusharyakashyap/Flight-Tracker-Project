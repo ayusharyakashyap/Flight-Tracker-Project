{
 "cells": [
  {
   "cell_type": "code",
   "execution_count": 1,
   "id": "17a4cf88-6720-4ae8-bf85-3d2862852cf7",
   "metadata": {},
   "outputs": [
    {
     "name": "stdout",
     "output_type": "stream",
     "text": [
      "Defaulting to user installation because normal site-packages is not writeable\n",
      "Requirement already satisfied: requests in /Users/ayusharyakashyap/Library/Python/3.11/lib/python/site-packages (2.31.0)\n",
      "Requirement already satisfied: charset-normalizer<4,>=2 in /Users/ayusharyakashyap/Library/Python/3.11/lib/python/site-packages (from requests) (3.3.2)\n",
      "Requirement already satisfied: idna<4,>=2.5 in /Users/ayusharyakashyap/Library/Python/3.11/lib/python/site-packages (from requests) (3.7)\n",
      "Requirement already satisfied: urllib3<3,>=1.21.1 in /Users/ayusharyakashyap/Library/Python/3.11/lib/python/site-packages (from requests) (1.26.20)\n",
      "Requirement already satisfied: certifi>=2017.4.17 in /Users/ayusharyakashyap/Library/Python/3.11/lib/python/site-packages (from requests) (2024.12.14)\n",
      "\n",
      "\u001b[1m[\u001b[0m\u001b[34;49mnotice\u001b[0m\u001b[1;39;49m]\u001b[0m\u001b[39;49m A new release of pip is available: \u001b[0m\u001b[31;49m24.3.1\u001b[0m\u001b[39;49m -> \u001b[0m\u001b[32;49m25.0.1\u001b[0m\n",
      "\u001b[1m[\u001b[0m\u001b[34;49mnotice\u001b[0m\u001b[1;39;49m]\u001b[0m\u001b[39;49m To update, run: \u001b[0m\u001b[32;49mpython3.11 -m pip install --upgrade pip\u001b[0m\n"
     ]
    }
   ],
   "source": [
    "!pip install requests"
   ]
  },
  {
   "cell_type": "code",
   "execution_count": 3,
   "id": "6e4b9ccf-623a-4b25-a5b2-2991c74f09ec",
   "metadata": {},
   "outputs": [
    {
     "name": "stdout",
     "output_type": "stream",
     "text": [
      "\n",
      "--- Flight Details ---\n",
      "Flight Number: AI302\n",
      "Airline: Air India\n",
      "Departure: Indira Gandhi International (DEL)\n",
      "Arrival: Sydney Kingsford Smith Airport (SYD)\n",
      "Status: landed\n",
      "Scheduled Departure: 2025-02-22T00:55:00+00:00\n",
      "Scheduled Arrival: 2025-02-22T19:00:00+00:00\n",
      "Live tracking data is not available for this flight.\n"
     ]
    }
   ],
   "source": [
    "import requests\n",
    "\n",
    "# Your AviationStack API key\n",
    "API_KEY = \"a676f8f7e90b93f762b96569c3569e64\"\n",
    "\n",
    "# Function to fetch real-time flight data\n",
    "def get_flight_status(flight_iata):\n",
    "    url = f\"http://api.aviationstack.com/v1/flights?access_key={API_KEY}&flight_iata={flight_iata}\"\n",
    "\n",
    "    response = requests.get(url)\n",
    "    \n",
    "    if response.status_code == 200:\n",
    "        data = response.json()\n",
    "\n",
    "        if not data.get(\"data\"):  # Ensure 'data' key exists and is not empty\n",
    "            print(\"No active flight found for the given flight number.\")\n",
    "            return\n",
    "\n",
    "        flight = data[\"data\"][0]  # Taking the first match\n",
    "\n",
    "        print(\"\\n--- Flight Details ---\")\n",
    "        print(f\"Flight Number: {flight.get('flight', {}).get('iata', 'N/A')}\")\n",
    "        print(f\"Airline: {flight.get('airline', {}).get('name', 'N/A')}\")\n",
    "        print(f\"Departure: {flight.get('departure', {}).get('airport', 'N/A')} ({flight.get('departure', {}).get('iata', 'N/A')})\")\n",
    "        print(f\"Arrival: {flight.get('arrival', {}).get('airport', 'N/A')} ({flight.get('arrival', {}).get('iata', 'N/A')})\")\n",
    "        print(f\"Status: {flight.get('flight_status', 'N/A')}\")\n",
    "        print(f\"Scheduled Departure: {flight.get('departure', {}).get('scheduled', 'N/A')}\")\n",
    "        print(f\"Scheduled Arrival: {flight.get('arrival', {}).get('scheduled', 'N/A')}\")\n",
    "\n",
    "        # Check if 'live' data is available\n",
    "        live_data = flight.get('live')\n",
    "        if live_data:\n",
    "            print(f\"Live Altitude: {live_data.get('altitude', 'N/A')} meters\")\n",
    "            print(f\"Live Speed: {live_data.get('speed_horizontal', 'N/A')} km/h\")\n",
    "            print(f\"Latitude: {live_data.get('latitude', 'N/A')}\")\n",
    "            print(f\"Longitude: {live_data.get('longitude', 'N/A')}\")\n",
    "        else:\n",
    "            print(\"Live tracking data is not available for this flight.\")\n",
    "    else:\n",
    "        print(\"Error fetching flight data:\", response.status_code, response.text)\n",
    "\n",
    "# Example usage: Fetch details for a flight (replace with a valid flight IATA code)\n",
    "get_flight_status(\"AI302\")  # Replace with an actual flight number"
   ]
  },
  {
   "cell_type": "code",
   "execution_count": null,
   "id": "5c9f653f-5486-4acf-b24c-85e68280f7c4",
   "metadata": {},
   "outputs": [],
   "source": []
  }
 ],
 "metadata": {
  "kernelspec": {
   "display_name": "Python 3 (ipykernel)",
   "language": "python",
   "name": "python3"
  },
  "language_info": {
   "codemirror_mode": {
    "name": "ipython",
    "version": 3
   },
   "file_extension": ".py",
   "mimetype": "text/x-python",
   "name": "python",
   "nbconvert_exporter": "python",
   "pygments_lexer": "ipython3",
   "version": "3.11.0"
  }
 },
 "nbformat": 4,
 "nbformat_minor": 5
}
